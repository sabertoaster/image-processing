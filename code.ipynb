{
 "cells": [
  {
   "cell_type": "markdown",
   "metadata": {},
   "source": [
    "## Features \n",
    "brightness\n",
    "<br>\n",
    "contrast\n",
    "<br>\n",
    "\"flip picture\"\n",
    "<br>\n",
    "chuyển màu ảnh sang gray\n",
    "<br>\n",
    "\"saturation\"\n",
    "<br>\n",
    "\"làm mờ\"\n",
    "<br>\n",
    "làm ảnh sắc nét\n",
    "<br>\n",
    "distortion"
   ]
  },
  {
   "cell_type": "markdown",
   "metadata": {},
   "source": [
    "#### Brightness"
   ]
  },
  {
   "cell_type": "code",
   "execution_count": 37,
   "metadata": {},
   "outputs": [
    {
     "data": {
      "text/plain": [
       "True"
      ]
     },
     "execution_count": 37,
     "metadata": {},
     "output_type": "execute_result"
    }
   ],
   "source": [
    "import cv2 \n",
    "import numpy as np\n",
    "def brnAdjust(img, amount):\n",
    "    img.astype(float)\n",
    "    img = img + [amount, amount, amount]\n",
    "    img = np.clip(img, 0.0, 255.0)\n",
    "    img.astype(np.uint8)\n",
    "    return img\n",
    "\n",
    "img = cv2.imread(\"nature.jpg\", 1)\n",
    "img = brnAdjust(img, 50)\n",
    "cv2.imwrite(\"brightness.jpg\", img)\n"
   ]
  },
  {
   "cell_type": "markdown",
   "metadata": {},
   "source": [
    "#### Contrast"
   ]
  },
  {
   "cell_type": "markdown",
   "metadata": {},
   "source": [
    "- [0, 1] là khoảng mà contrast biến thành màu tối\n",
    "- [1, inf] là khoảng mà contrast thành màu sáng"
   ]
  },
  {
   "cell_type": "code",
   "execution_count": 7,
   "metadata": {},
   "outputs": [
    {
     "data": {
      "text/plain": [
       "True"
      ]
     },
     "execution_count": 7,
     "metadata": {},
     "output_type": "execute_result"
    }
   ],
   "source": [
    "import cv2 \n",
    "import numpy as np\n",
    "import math\n",
    "def conAdjust(img, amount):\n",
    "    img.astype(float)\n",
    "    amount = np.clip(amount, 1, 2) \n",
    "    amount = math.log(math.exp(1) - 1 + amount)\n",
    "    img = img * [amount, amount, amount]\n",
    "    img = np.clip(img, 0.0, 255.0)\n",
    "    img.astype(np.uint8)\n",
    "    return img\n",
    "\n",
    "img = cv2.imread(\"nature.jpg\", 1)\n",
    "img = conAdjust(img, 2)\n",
    "cv2.imwrite(\"constrast.jpg\", img)\n"
   ]
  },
  {
   "cell_type": "markdown",
   "metadata": {},
   "source": [
    "#### Grayscale"
   ]
  },
  {
   "cell_type": "markdown",
   "metadata": {},
   "source": [
    "Formula for grayscale: [Wikipedia](https://en.wikipedia.org/wiki/Grayscale#Converting_color_to_grayscale)"
   ]
  },
  {
   "cell_type": "code",
   "execution_count": 13,
   "metadata": {},
   "outputs": [
    {
     "data": {
      "text/plain": [
       "True"
      ]
     },
     "execution_count": 13,
     "metadata": {},
     "output_type": "execute_result"
    }
   ],
   "source": [
    "import cv2 \n",
    "import numpy as np\n",
    "import math\n",
    "\n",
    "def greyScale(img, weighted_sum):\n",
    "    img.astype(float)\n",
    "    img = np.dot(img, weighted_sum)\n",
    "    img = np.where(img <= 0.0031308, 12.92*img, 1.055*(img) - 0.055)    \n",
    "    img.astype(np.uint8)\n",
    "    return img\n",
    "\n",
    "\n",
    "weighted_sum = np.array([0.2126, 0.7152, 0.0722]) # corresponding Red, Green and Blue channel\n",
    "img = cv2.imread(\"nature.jpg\", 1)\n",
    "img = cv2.cvtColor(img, cv2.COLOR_BGR2RGB)\n",
    "\n",
    "img = greyScale(img, weighted_sum)\n",
    "cv2.imwrite(\"greyscale.jpg\", img)"
   ]
  },
  {
   "cell_type": "markdown",
   "metadata": {},
   "source": [
    "#### Sharpen "
   ]
  },
  {
   "cell_type": "code",
   "execution_count": null,
   "metadata": {},
   "outputs": [],
   "source": [
    "def applyKernel(img, kernel):\n",
    "    "
   ]
  }
 ],
 "metadata": {
  "kernelspec": {
   "display_name": "Python 3 (ipykernel)",
   "language": "python",
   "name": "python3"
  },
  "language_info": {
   "codemirror_mode": {
    "name": "ipython",
    "version": 3
   },
   "file_extension": ".py",
   "mimetype": "text/x-python",
   "name": "python",
   "nbconvert_exporter": "python",
   "pygments_lexer": "ipython3",
   "version": "3.12.0"
  }
 },
 "nbformat": 4,
 "nbformat_minor": 4
}
